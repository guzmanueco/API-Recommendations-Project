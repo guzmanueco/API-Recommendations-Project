{
 "cells": [
  {
   "cell_type": "code",
   "execution_count": 1,
   "metadata": {},
   "outputs": [],
   "source": [
    "import os\n",
    "from bottle import route, run, get, error\n",
    "from pymongo import MongoClient\n",
    "from dotenv import load_dotenv\n",
    "import dns\n",
    "import json\n",
    "import pymongo\n",
    "from bson.json_util import dumps, loads\n",
    "\n",
    "\n",
    "load_dotenv()\n",
    "url=os.getenv('password')\n",
    "client = MongoClient(url)\n",
    "db = client['chat']\n",
    "coll = db['chat-prueba']"
   ]
  },
  {
   "cell_type": "code",
   "execution_count": 3,
   "metadata": {},
   "outputs": [
    {
     "data": {
      "text/plain": [
       "{'_id': ObjectId('5de259b414b34255d4a5c7bc'),\n",
       " 'idUser': 0,\n",
       " 'userName': 'John Wick',\n",
       " 'idMessage': 0,\n",
       " 'idChat': 0,\n",
       " 'datetime': '2019-10-17 10:15:41',\n",
       " 'text': 'Hey Mike, whats up??'}"
      ]
     },
     "execution_count": 3,
     "metadata": {},
     "output_type": "execute_result"
    }
   ],
   "source": [
    "list(coll.find())[0]"
   ]
  },
  {
   "cell_type": "code",
   "execution_count": 101,
   "metadata": {},
   "outputs": [],
   "source": [
    "def getting_messages(x):\n",
    "    x=int(x)\n",
    "    return dumps(coll.find({},{'text':1}).limit(x))"
   ]
  },
  {
   "cell_type": "code",
   "execution_count": 102,
   "metadata": {},
   "outputs": [
    {
     "data": {
      "text/plain": [
       "'[{\"_id\": {\"$oid\": \"5de259b414b34255d4a5c7bc\"}, \"text\": \"Hey Mike, whats up??\"}, {\"_id\": {\"$oid\": \"5de259b414b34255d4a5c7bd\"}, \"text\": \"Dude!!! \\\\ud83d\\\\ude00\\\\ufe0f Did you watch the game last night?\"}, {\"_id\": {\"$oid\": \"5de259b414b34255d4a5c7be\"}, \"text\": \"No, had to work. How was it?\"}, {\"_id\": {\"$oid\": \"5de259b414b34255d4a5c7bf\"}, \"text\": \"Awesome! Boyander scored 3 goals!\"}, {\"_id\": {\"$oid\": \"5de259b414b34255d4a5c7c0\"}, \"text\": \"No way! \\\\ud83d\\\\ude2e\\\\ufe0f\"}, {\"_id\": {\"$oid\": \"5de259b414b34255d4a5c7c1\"}, \"text\": \"Way...\"}, {\"_id\": {\"$oid\": \"5de259b414b34255d4a5c7c2\"}, \"text\": \"I bet people went crazy\"}, {\"_id\": {\"$oid\": \"5de259b414b34255d4a5c7c3\"}, \"text\": \"For sure. We stayed at KuboLoco until 6AM.\"}, {\"_id\": {\"$oid\": \"5de259b414b34255d4a5c7c4\"}, \"text\": \"Motherfucker! Hungover? \\\\ud83d\\\\ude35\\\\ufe0f\"}, {\"_id\": {\"$oid\": \"5de259b414b34255d4a5c7c5\"}, \"text\": \"Dead, burried and still suffering! \\\\ud83e\\\\udd2e\\\\ufe0f\"}]'"
      ]
     },
     "execution_count": 102,
     "metadata": {},
     "output_type": "execute_result"
    }
   ],
   "source": [
    "(getting_messages('10'))"
   ]
  },
  {
   "cell_type": "code",
   "execution_count": 169,
   "metadata": {},
   "outputs": [],
   "source": [
    "def return_users():\n",
    "    return dumps(coll.find().distinct('userName'))"
   ]
  },
  {
   "cell_type": "code",
   "execution_count": 170,
   "metadata": {},
   "outputs": [
    {
     "data": {
      "text/plain": [
       "'[\"John Wick\", \"Mike Wazowski\", \"Leia Organa\", \"Tony Stark\", \"Ellen Ripley\", \"J. Jonah Jameson\", \"Danny Torrances Finger\", \"Danny Torrance\"]'"
      ]
     },
     "execution_count": 170,
     "metadata": {},
     "output_type": "execute_result"
    }
   ],
   "source": [
    "(return_users())"
   ]
  }
 ],
 "metadata": {
  "kernelspec": {
   "display_name": "Python 3",
   "language": "python",
   "name": "python3"
  },
  "language_info": {
   "codemirror_mode": {
    "name": "ipython",
    "version": 3
   },
   "file_extension": ".py",
   "mimetype": "text/x-python",
   "name": "python",
   "nbconvert_exporter": "python",
   "pygments_lexer": "ipython3",
   "version": "3.7.5rc1"
  }
 },
 "nbformat": 4,
 "nbformat_minor": 2
}
