{
 "cells": [
  {
   "cell_type": "code",
   "execution_count": 1,
   "metadata": {},
   "outputs": [],
   "source": [
    "import os\n",
    "from bottle import route, run, get, error\n",
    "from pymongo import MongoClient\n",
    "from dotenv import load_dotenv\n",
    "import dns\n",
    "import json\n",
    "import pymongo\n",
    "from bson.json_util import dumps, loads\n",
    "from textblob import TextBlob\n",
    "\n",
    "load_dotenv()\n",
    "url=os.getenv('password')\n",
    "client = MongoClient(url)\n",
    "db = client['chat']\n",
    "coll = db['chat-prueba']"
   ]
  },
  {
   "cell_type": "code",
   "execution_count": 2,
   "metadata": {},
   "outputs": [],
   "source": [
    "def sentiments():\n",
    "    sentiment=dict()\n",
    "    text=''\n",
    "    for e in coll.find():\n",
    "        text+=e['text']+' '\n",
    "    sentiment['analysis']=TextBlob(text).sentiment\n",
    "    return sentiment"
   ]
  },
  {
   "cell_type": "code",
   "execution_count": 3,
   "metadata": {},
   "outputs": [
    {
     "data": {
      "text/plain": [
       "{'analysis': Sentiment(polarity=0.051466836734693884, subjectivity=0.5876275510204082)}"
      ]
     },
     "execution_count": 3,
     "metadata": {},
     "output_type": "execute_result"
    }
   ],
   "source": [
    "sentiments()"
   ]
  },
  {
   "cell_type": "code",
   "execution_count": 4,
   "metadata": {},
   "outputs": [
    {
     "name": "stdout",
     "output_type": "stream",
     "text": [
      "Hey Mike, whats up?? Dude!!! 😀️ Did you watch the game last night? No, had to work. How was it? Awesome! Boyander scored 3 goals! No way! 😮️ Way... I bet people went crazy For sure. We stayed at KuboLoco until 6AM. Motherfucker! Hungover? 😵️ Dead, burried and still suffering! 🤮️ Im so angry right now! I saw you this morning. You shouldnt get so upset. ❤️ Impossible! Cant do it! Just cant! He pissed me off so much. Dont get so frustrated, Leia. Remember what German said. But how am I suposed to fix the facial recognition system if it doesnt even work? Im sure you will find a way. And who the hell is Tony? 🤯️ I am Iron Man Oh shit. I think youre friends with my brother. Uh-Oh. Better fix that quickly. Sweety pie! How Ive longed to talk to you. Not again, Michael.... 😒️ Its Mike, honey bunny. Or doctor LOVE! And youre a sick little girl. Im gonna report you to Human Resources again, Michael. Cant handle me on your own? Id rather have a fucking alien crawling out of my ass That would be hot... 🔥️ Ok, youve got to stop drinking! Im calling HR. I NEED VODKA LIKE A CAR NEEDS GAS Dude... Alcoholics Anonymous: https://www.aa.org I want pictures of Spiderman and I want them now! Sure, boss. Youve got to take me seriously. I do! I just dont feel appreciated in my job Thats why youve got to get those damm pictures!! I dunno... Get the god damn motherfucking fuckity fuck bloody ballsack pictures Maybe Youve got to! And I believe in you Thank you, boss! I feel much better... REDRUM What was that? REDRUM REDRUM REDRUM Did you mean red room? Id love a red room. Murder, bro, cold blooded splashy murderous fun Chill out, pinky.. Its such a nice day A nice day to create havoc! Ill go for a walk in the park, I guess. Maybe fishing Fishing sounds good. What about the labyrinth? No! That places creeps me out.. \n"
     ]
    },
    {
     "data": {
      "text/plain": [
       "Sentiment(polarity=0.0, subjectivity=0.0)"
      ]
     },
     "execution_count": 4,
     "metadata": {},
     "output_type": "execute_result"
    }
   ],
   "source": [
    "text=''\n",
    "for e in coll.find():\n",
    "    text+=e['text']+' '\n",
    "print(text)\n",
    "\n",
    "TextBlob('\\\\ud83d').sentiment"
   ]
  },
  {
   "cell_type": "code",
   "execution_count": 5,
   "metadata": {},
   "outputs": [],
   "source": [
    "def sentiment_of_everyone():\n",
    "    conversation=dict()\n",
    "    conv_analysis=dict()\n",
    "    for e in coll.find():\n",
    "        if e['userName'] not in conversation:\n",
    "            conversation[e['userName']]=e['text']\n",
    "        else:\n",
    "            conversation[e['userName']]+=' '+ e['text']\n",
    "    for e in conversation:\n",
    "        conv_analysis[e]=TextBlob(conversation[e]).sentiment\n",
    "    return conv_analysis"
   ]
  },
  {
   "cell_type": "code",
   "execution_count": 6,
   "metadata": {},
   "outputs": [
    {
     "data": {
      "text/plain": [
       "{'John Wick': Sentiment(polarity=0.15625, subjectivity=0.5972222222222222),\n",
       " 'Mike Wazowski': Sentiment(polarity=0.13607142857142857, subjectivity=0.6562698412698413),\n",
       " 'Leia Organa': Sentiment(polarity=-0.19047619047619047, subjectivity=0.5892857142857143),\n",
       " 'Tony Stark': Sentiment(polarity=0.12666666666666665, subjectivity=0.4177777777777777),\n",
       " 'Ellen Ripley': Sentiment(polarity=0.125, subjectivity=0.45),\n",
       " 'J. Jonah Jameson': Sentiment(polarity=-0.6402777777777778, subjectivity=0.7222222222222222),\n",
       " 'Danny Torrances Finger': Sentiment(polarity=0.2875, subjectivity=0.7000000000000001),\n",
       " 'Danny Torrance': Sentiment(polarity=0.02321428571428571, subjectivity=0.5410714285714285)}"
      ]
     },
     "execution_count": 6,
     "metadata": {},
     "output_type": "execute_result"
    }
   ],
   "source": [
    "sentiment_of_everyone()"
   ]
  },
  {
   "cell_type": "code",
   "execution_count": 7,
   "metadata": {},
   "outputs": [],
   "source": [
    "def sentiment_user(user):\n",
    "    conversation=dict()\n",
    "    conv_analysis=dict()\n",
    "    for e in coll.find():\n",
    "        if e['userName']==user:\n",
    "            conversation[user]=e['text']\n",
    "        else:\n",
    "            conversation[user]+=' '+e['text']\n",
    "    conv_analysis[user]=TextBlob(conversation[user]).sentiment\n",
    "    return conv_analysis"
   ]
  },
  {
   "cell_type": "code",
   "execution_count": 8,
   "metadata": {},
   "outputs": [
    {
     "data": {
      "text/plain": [
       "{'John Wick': Sentiment(polarity=0.17604166666666665, subjectivity=0.5906250000000001)}"
      ]
     },
     "execution_count": 8,
     "metadata": {},
     "output_type": "execute_result"
    }
   ],
   "source": [
    "sentiment_user('John Wick')"
   ]
  },
  {
   "cell_type": "code",
   "execution_count": 9,
   "metadata": {},
   "outputs": [
    {
     "data": {
      "text/plain": [
       "'conversation_analysis=dict()\\n\\nfor e in conversation:\\n    conversation_analysis[e]=TextBlob(conversation[e]).sentiment\\nconversation_analysis'"
      ]
     },
     "execution_count": 9,
     "metadata": {},
     "output_type": "execute_result"
    }
   ],
   "source": [
    "\"\"\"conversation=dict()\n",
    "\n",
    "for e in coll.find():\n",
    "    if e['userName'] not in conversation:\n",
    "        conversation[e['userName']]=e['text']\n",
    "    else:\n",
    "        conversation[e['userName']]+=e['text']\n",
    "conversation\n",
    "dumps(conversation)\"\"\"\n",
    "\n",
    "\"\"\"conversation_analysis=dict()\n",
    "\n",
    "for e in conversation:\n",
    "    conversation_analysis[e]=TextBlob(conversation[e]).sentiment\n",
    "conversation_analysis\"\"\""
   ]
  },
  {
   "cell_type": "code",
   "execution_count": null,
   "metadata": {},
   "outputs": [],
   "source": []
  },
  {
   "cell_type": "code",
   "execution_count": null,
   "metadata": {},
   "outputs": [],
   "source": []
  },
  {
   "cell_type": "code",
   "execution_count": null,
   "metadata": {},
   "outputs": [],
   "source": []
  },
  {
   "cell_type": "code",
   "execution_count": null,
   "metadata": {},
   "outputs": [],
   "source": []
  },
  {
   "cell_type": "code",
   "execution_count": 10,
   "metadata": {},
   "outputs": [],
   "source": [
    "def getting_x_messages(y):\n",
    "    y=int(y)\n",
    "    return dumps(coll.find({},{'userName':1,'text':1}).limit(y))\n"
   ]
  },
  {
   "cell_type": "code",
   "execution_count": 11,
   "metadata": {},
   "outputs": [
    {
     "data": {
      "text/plain": [
       "'[{\"_id\": {\"$oid\": \"5de259b414b34255d4a5c7bc\"}, \"userName\": \"John Wick\", \"text\": \"Hey Mike, whats up??\"}, {\"_id\": {\"$oid\": \"5de259b414b34255d4a5c7bd\"}, \"userName\": \"Mike Wazowski\", \"text\": \"Dude!!! \\\\ud83d\\\\ude00\\\\ufe0f Did you watch the game last night?\"}]'"
      ]
     },
     "execution_count": 11,
     "metadata": {},
     "output_type": "execute_result"
    }
   ],
   "source": [
    "(getting_x_messages(2))"
   ]
  },
  {
   "cell_type": "code",
   "execution_count": null,
   "metadata": {},
   "outputs": [],
   "source": []
  },
  {
   "cell_type": "code",
   "execution_count": 12,
   "metadata": {},
   "outputs": [
    {
     "name": "stderr",
     "output_type": "stream",
     "text": [
      "[nltk_data] Downloading package vader_lexicon to\n",
      "[nltk_data]     /home/guzman/nltk_data...\n",
      "[nltk_data]   Package vader_lexicon is already up-to-date!\n"
     ]
    },
    {
     "data": {
      "text/plain": [
       "{'neg': 0.0, 'neu': 1.0, 'pos': 0.0, 'compound': 0.0}"
      ]
     },
     "execution_count": 12,
     "metadata": {},
     "output_type": "execute_result"
    }
   ],
   "source": [
    "import nltk # install nltk\n",
    "from nltk.sentiment.vader import SentimentIntensityAnalyzer\n",
    "nltk.download('vader_lexicon')\n",
    "\n",
    "sid = SentimentIntensityAnalyzer()\n",
    "\n",
    "sid.polarity_scores(\"Weekend proyect\")"
   ]
  },
  {
   "cell_type": "code",
   "execution_count": 13,
   "metadata": {},
   "outputs": [
    {
     "data": {
      "text/plain": [
       "{'neg': 0.756, 'neu': 0.244, 'pos': 0.0, 'compound': -0.4767}"
      ]
     },
     "execution_count": 13,
     "metadata": {},
     "output_type": "execute_result"
    }
   ],
   "source": [
    "sid.polarity_scores('I am sad')"
   ]
  },
  {
   "cell_type": "code",
   "execution_count": 14,
   "metadata": {},
   "outputs": [],
   "source": [
    "text='I am sad'\n"
   ]
  },
  {
   "cell_type": "code",
   "execution_count": 15,
   "metadata": {},
   "outputs": [
    {
     "name": "stdout",
     "output_type": "stream",
     "text": [
      "{'combat-ready', 'participating', 'alive', 'active_voice', 'fighting', 'active', 'dynamic', 'active_agent'}\n"
     ]
    }
   ],
   "source": [
    "from nltk.corpus import wordnet\n",
    "\n",
    "synonyms = []\n",
    "antonyms = []\n",
    "\n",
    "for syn in wordnet.synsets(\"active\"):\n",
    "    for l in syn.lemmas():\n",
    "        synonyms.append(l.name())\n",
    "print(set(synonyms))\n"
   ]
  },
  {
   "cell_type": "code",
   "execution_count": 36,
   "metadata": {},
   "outputs": [],
   "source": [
    "import operator\n",
    "import regex\n",
    "def improving_sentence(text):\n",
    "    sentence_lst=text.split()\n",
    "    sentence_dict=dict()\n",
    "    polarity_dict=dict()\n",
    "    polar_scores=[]\n",
    "    word_to_change=''\n",
    "    scores_dict=dict()\n",
    "    for i in range(len(sentence_lst)):\n",
    "        sentence_dict[i]=sentence_lst[i]\n",
    "    for i in range(len(sentence_lst)):\n",
    "        polarity_dict[i]=sid.polarity_scores(sentence_dict[i])\n",
    "    for i in range(len(sentence_lst)):\n",
    "        scores_dict[sentence_lst[i]]=polarity_dict[i]['compound']\n",
    "   \n",
    "    lst_x=sorted(scores_dict.items(), key=operator.itemgetter(1))\n",
    "    \n",
    "    final_dict=dict()\n",
    "    \n",
    "    word_to_change=lst_x[0][0]\n",
    "    \n",
    "    for e in lst_x:\n",
    "        final_dict[e[0]]=e[1]\n",
    "        \n",
    "    synonyms = []\n",
    "    \n",
    "    word=list(final_dict)[0]\n",
    "    \n",
    "    for syn in wordnet.synsets(word):\n",
    "        for l in syn.lemmas():\n",
    "            synonyms.append(l.name())\n",
    "    \n",
    "    synonyms_dict=dict()\n",
    "    \n",
    "    lst_of_synonyms_scores=[]\n",
    "    \n",
    "    for e in synonyms:\n",
    "        synonyms_dict[e]=sid.polarity_scores(e)['compound']\n",
    "    lst_of_synonyms=sorted(synonyms_dict.items(),key=operator.itemgetter(1), reverse=True)\n",
    "    \n",
    "    if word_to_change=='I':\n",
    "        text=text\n",
    "    else:\n",
    "        text=regex.sub(word_to_change,lst_of_synonyms[0][0],text)\n",
    "    \n",
    "    return text"
   ]
  },
  {
   "cell_type": "code",
   "execution_count": 40,
   "metadata": {},
   "outputs": [
    {
     "data": {
      "text/plain": [
       "'I bet people went loony'"
      ]
     },
     "execution_count": 40,
     "metadata": {},
     "output_type": "execute_result"
    }
   ],
   "source": [
    "improving_sentence(x[6]['text'])"
   ]
  },
  {
   "cell_type": "code",
   "execution_count": 38,
   "metadata": {},
   "outputs": [
    {
     "name": "stdout",
     "output_type": "stream",
     "text": [
      "nobelium way! 😮️\n",
      "I bet people went loony\n",
      "Im so tempestuous right now!\n",
      "Impossible! Cant do it! Just cant! He make me off so much.\n",
      "merely how am I suposed to fix the facial recognition system if it doesnt even work?\n",
      "And who the hell_on_earth is Tony? 🤯️\n",
      "I am Iron Man\n",
      "not again, Michael.... 😒️\n",
      "Its Mike, honey bunny. Or doctor LOVE! And youre a vomit little girl.\n",
      "buzzword handle me on your own?\n",
      "Id rather have a fucking alien crawling out of my buttocks\n",
      "Ok, youve got to halt drinking! Im calling HR.\n",
      "I NEED VODKA LIKE A CAR NEEDS GAS\n",
      "I want pictures of Spiderman and I want them now!\n",
      "I do! I just dont feel appreciated in my job\n",
      "I dunno...\n",
      "possibly\n",
      "make you mean red room? Id love a red room.\n",
      "thrill out, pinky.. Its such a nice day\n",
      "ailment go for a walk in the park, I guess. Maybe fishing\n",
      "fishing sounds good. What about the labyrinth?\n"
     ]
    },
    {
     "data": {
      "text/plain": [
       "'No way! 😮️'"
      ]
     },
     "execution_count": 38,
     "metadata": {},
     "output_type": "execute_result"
    }
   ],
   "source": [
    "x=list(coll.find())\n",
    "\n",
    "for i in range(len(x)):\n",
    "    try:\n",
    "        j=improving_sentence(x[i]['text'])\n",
    "        print(j)\n",
    "        \n",
    "    except:\n",
    "        pass\n",
    "    \n",
    "x[4]['text']"
   ]
  },
  {
   "cell_type": "code",
   "execution_count": null,
   "metadata": {},
   "outputs": [],
   "source": []
  },
  {
   "cell_type": "code",
   "execution_count": null,
   "metadata": {},
   "outputs": [],
   "source": []
  },
  {
   "cell_type": "code",
   "execution_count": null,
   "metadata": {},
   "outputs": [],
   "source": [
    "def sentiments(x):\n",
    "    x=int(x)\n",
    "    sentiment=dict()\n",
    "    text=''\n",
    "    z=(coll.find({\"idChat\":x}))\n",
    "    for e in z:\n",
    "        text+=e['text']\n",
    "    sentiment['analysis']=TextBlob(text).sentiment\n",
    "    return sentiment"
   ]
  },
  {
   "cell_type": "code",
   "execution_count": null,
   "metadata": {},
   "outputs": [],
   "source": [
    "sentiments(4)"
   ]
  },
  {
   "cell_type": "code",
   "execution_count": null,
   "metadata": {},
   "outputs": [],
   "source": []
  },
  {
   "cell_type": "code",
   "execution_count": null,
   "metadata": {},
   "outputs": [],
   "source": []
  }
 ],
 "metadata": {
  "kernelspec": {
   "display_name": "Python 3",
   "language": "python",
   "name": "python3"
  },
  "language_info": {
   "codemirror_mode": {
    "name": "ipython",
    "version": 3
   },
   "file_extension": ".py",
   "mimetype": "text/x-python",
   "name": "python",
   "nbconvert_exporter": "python",
   "pygments_lexer": "ipython3",
   "version": "3.7.5rc1"
  }
 },
 "nbformat": 4,
 "nbformat_minor": 2
}
