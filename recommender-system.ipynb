{
 "cells": [
  {
   "cell_type": "code",
   "execution_count": 1,
   "metadata": {},
   "outputs": [],
   "source": [
    "import os\n",
    "from pymongo import MongoClient\n",
    "from dotenv import load_dotenv\n",
    "import dns\n",
    "from bson.json_util import dumps, loads\n",
    "import regex as re\n",
    "from sklearn.metrics.pairwise import cosine_similarity as distance\n",
    "import numpy as np\n",
    "\n",
    "load_dotenv()\n",
    "url=os.getenv('password')\n",
    "client = MongoClient(url)\n",
    "db = client['chat']\n",
    "coll = db['chat-prueba']"
   ]
  },
  {
   "cell_type": "code",
   "execution_count": 2,
   "metadata": {},
   "outputs": [
    {
     "data": {
      "text/plain": [
       "'x=list(coll.find())'"
      ]
     },
     "execution_count": 2,
     "metadata": {},
     "output_type": "execute_result"
    }
   ],
   "source": [
    "\"\"\"x=list(coll.find())\"\"\""
   ]
  },
  {
   "cell_type": "code",
   "execution_count": 3,
   "metadata": {},
   "outputs": [],
   "source": [
    "def getting_every_sentence():\n",
    "    x=list(coll.find())\n",
    "    users_dict=dict()\n",
    "    for i in range(len(x)):\n",
    "        if x[i]['userName'] not in users_dict:\n",
    "            users_dict[x[i]['userName']]=x[i]['text']\n",
    "        else:\n",
    "            users_dict[x[i]['userName']]+=' ' +x[i]['text']\n",
    "    for e in users_dict:\n",
    "        users_dict[e]=re.sub(r\"[^a-zA-Z0-9]+\", ' ', users_dict[e])\n",
    "    return users_dict"
   ]
  },
  {
   "cell_type": "code",
   "execution_count": 4,
   "metadata": {},
   "outputs": [
    {
     "data": {
      "text/plain": [
       "'getting_every_sentence()'"
      ]
     },
     "execution_count": 4,
     "metadata": {},
     "output_type": "execute_result"
    }
   ],
   "source": [
    "\"\"\"getting_every_sentence()\"\"\""
   ]
  },
  {
   "cell_type": "code",
   "execution_count": 5,
   "metadata": {},
   "outputs": [],
   "source": [
    "import pandas as pd\n",
    "from sklearn.feature_extraction.text import CountVectorizer"
   ]
  },
  {
   "cell_type": "code",
   "execution_count": 6,
   "metadata": {},
   "outputs": [],
   "source": [
    "def getting_sparse_matrix():\n",
    "    count_vectorizer = CountVectorizer(stop_words='english')\n",
    "    sparse_matrix = count_vectorizer.fit_transform(getting_every_sentence().values())\n",
    "    return sparse_matrix"
   ]
  },
  {
   "cell_type": "code",
   "execution_count": 7,
   "metadata": {},
   "outputs": [
    {
     "data": {
      "text/plain": [
       "<9x154 sparse matrix of type '<class 'numpy.int64'>'\n",
       "\twith 178 stored elements in Compressed Sparse Row format>"
      ]
     },
     "execution_count": 7,
     "metadata": {},
     "output_type": "execute_result"
    }
   ],
   "source": [
    "getting_sparse_matrix()"
   ]
  },
  {
   "cell_type": "code",
   "execution_count": 8,
   "metadata": {},
   "outputs": [
    {
     "data": {
      "text/plain": [
       "'doc_term_matrix = sparse_matrix.todense()\\ndf = pd.DataFrame(doc_term_matrix, \\n                  columns=count_vectorizer.get_feature_names(), \\n                  index=users_dict.keys())\\ndf'"
      ]
     },
     "execution_count": 8,
     "metadata": {},
     "output_type": "execute_result"
    }
   ],
   "source": [
    "\"\"\"doc_term_matrix = sparse_matrix.todense()\n",
    "df = pd.DataFrame(doc_term_matrix, \n",
    "                  columns=count_vectorizer.get_feature_names(), \n",
    "                  index=users_dict.keys())\n",
    "df\"\"\""
   ]
  },
  {
   "cell_type": "code",
   "execution_count": 17,
   "metadata": {},
   "outputs": [],
   "source": [
    "def recommending_user(user):\n",
    "    recommendation_dict=dict()\n",
    "    count_vectorizer=CountVectorizer(stop_words='english')\n",
    "    sparse_matrix = count_vectorizer.fit_transform(getting_every_sentence().values())\n",
    "    doc_term_matrix = getting_sparse_matrix().todense()\n",
    "    df = pd.DataFrame(doc_term_matrix, columns=count_vectorizer.get_feature_names(), index=getting_every_sentence().keys())\n",
    "    similarity_matrix = distance(df, df)\n",
    "    sim_df = pd.DataFrame(similarity_matrix, columns=getting_every_sentence().keys(), index=getting_every_sentence().keys())\n",
    "    np.fill_diagonal(sim_df.values, 0)\n",
    "    final_matrix=sim_df.idxmax()\n",
    "    \n",
    "    recommendation_dict[user]=final_matrix.loc[user]\n",
    "    return recommendation_dict"
   ]
  },
  {
   "cell_type": "code",
   "execution_count": 18,
   "metadata": {},
   "outputs": [
    {
     "data": {
      "text/plain": [
       "{'Mike Wazowski': 'John Wick'}"
      ]
     },
     "execution_count": 18,
     "metadata": {},
     "output_type": "execute_result"
    }
   ],
   "source": [
    "recommending_user('Mike Wazowski')"
   ]
  },
  {
   "cell_type": "code",
   "execution_count": null,
   "metadata": {},
   "outputs": [],
   "source": [
    "from sklearn.metrics.pairwise import cosine_similarity as distance\n",
    "\n",
    "similarity_matrix = distance(df, df)\n",
    "\n",
    "sim_df = pd.DataFrame(similarity_matrix, columns=users_dict.keys(), index=users_dict.keys())\n",
    "\n",
    "sim_df"
   ]
  },
  {
   "cell_type": "code",
   "execution_count": null,
   "metadata": {},
   "outputs": [],
   "source": [
    "sim_df.sort_values(by='John Wick', ascending=False)\n"
   ]
  }
 ],
 "metadata": {
  "kernelspec": {
   "display_name": "Python 3",
   "language": "python",
   "name": "python3"
  },
  "language_info": {
   "codemirror_mode": {
    "name": "ipython",
    "version": 3
   },
   "file_extension": ".py",
   "mimetype": "text/x-python",
   "name": "python",
   "nbconvert_exporter": "python",
   "pygments_lexer": "ipython3",
   "version": "3.7.5rc1"
  }
 },
 "nbformat": 4,
 "nbformat_minor": 2
}
